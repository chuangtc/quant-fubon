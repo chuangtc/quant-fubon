{
 "cells": [
  {
   "cell_type": "markdown",
   "id": "6baf7c99",
   "metadata": {},
   "source": [
    "# **富邦新一代API - Node.js範例程式碼**"
   ]
  },
  {
   "cell_type": "markdown",
   "id": "97e31a07-d2a8-454b-9c3e-7701d73cfb5d",
   "metadata": {},
   "source": [
    "## SDK 匯入"
   ]
  },
  {
   "cell_type": "code",
   "execution_count": null,
   "id": "339536ea",
   "metadata": {},
   "outputs": [],
   "source": [
    "const { FubonSDK, BSAction, TimeInForce, OrderType, PriceType, MarketType } = require('fubon-neo');\n",
    "const sdk = new FubonSDK();"
   ]
  },
  {
   "cell_type": "markdown",
   "id": "121ff2ff-063b-4df9-a586-a2a5e0303a3f",
   "metadata": {},
   "source": [
    "## 登入"
   ]
  },
  {
   "cell_type": "code",
   "execution_count": null,
   "id": "9689e319-1b41-461b-b5a6-1c7a723a7e96",
   "metadata": {},
   "outputs": [],
   "source": [
    "var accounts = sdk.login(\"H123oooooo\", \"oooooooo\", \"./H123oooooo.pfx\", \"oooooooo\");  // 登入帳號 輸入:帳號、密碼、憑證路徑、憑證密碼\n",
    "console.log(accounts)"
   ]
  },
  {
   "cell_type": "markdown",
   "id": "fec63578",
   "metadata": {},
   "source": [
    "### - 選擇與確認登入帳號"
   ]
  },
  {
   "cell_type": "code",
   "execution_count": null,
   "id": "42a622f0",
   "metadata": {},
   "outputs": [],
   "source": [
    "// 自行選擇使用第幾位帳戶\n",
    "var target_user = accounts.data[0];\n",
    "console.log(target_user);"
   ]
  },
  {
   "cell_type": "markdown",
   "id": "7dec69e4",
   "metadata": {
    "jp-MarkdownHeadingCollapsed": true
   },
   "source": [
    "## 1. 交易功能"
   ]
  },
  {
   "cell_type": "markdown",
   "id": "754fa6a9",
   "metadata": {},
   "source": [
    "### - 主動回報"
   ]
  },
  {
   "cell_type": "code",
   "execution_count": null,
   "id": "ae70246c",
   "metadata": {},
   "outputs": [],
   "source": [
    "// 訂閱委託回報\n",
    "sdk.setOnOrder(function(err, content) \n",
    "    { console.log(\"====下單主動回報====\\n\", err, content)});\n",
    "\n",
    "// 訂閱委託改動回報(包含改價改量刪單)\n",
    "sdk.setOnOrderChanged(function(err, content) \n",
    "    { console.log(\"====改單主動回報====\\n\", err, content)});\n",
    "\n",
    "// 訂閱成交回報\n",
    "sdk.setOnFilled(function(err, content) \n",
    "    { console.log(\"====成交主動回報====\\n\", err, content)})\n",
    "\n",
    "// 訂閱其他事件回報\n",
    "sdk.setOnEvent(function(err, content) \n",
    "    { console.log(\"====其他事件主動回報====\\n\", err, content)})"
   ]
  },
  {
   "cell_type": "markdown",
   "id": "f0030946-6123-4908-adbe-844d02b2e47c",
   "metadata": {},
   "source": [
    "### - 建立委託單"
   ]
  },
  {
   "cell_type": "code",
   "execution_count": null,
   "id": "fd4ff982",
   "metadata": {},
   "outputs": [],
   "source": [
    "var order = {\n",
    "  buySell: BSAction.Buy,\n",
    "  symbol: \"2330\",  // 股票代號\n",
    "  price: \"578\",  // 價格\n",
    "  quantity: 3000,  // 數量\n",
    "  marketType: MarketType.Common,  // 盤別\n",
    "  priceType: PriceType.Limit,  // 價格別\n",
    "  timeInForce: TimeInForce.ROD, \n",
    "  orderType: OrderType.Stock\n",
    "};\n",
    "\n",
    "console.log(order)"
   ]
  },
  {
   "cell_type": "markdown",
   "id": "107eea7e",
   "metadata": {},
   "source": [
    "### - 發送委託單"
   ]
  },
  {
   "cell_type": "code",
   "execution_count": null,
   "id": "2529644b",
   "metadata": {},
   "outputs": [],
   "source": [
    "var res = sdk.stock.placeOrder(target_user, order);\n",
    "console.log(\"成功與否: \" + res.isSuccess);\n",
    "if (res.isSuccess) {\n",
    "    console.log(\"\\n回報內容: \" + JSON.stringify(res.data));\n",
    "} else {\n",
    "    console.log(\"\\n錯誤訊息: \" + res.message);\n",
    "}"
   ]
  },
  {
   "cell_type": "markdown",
   "id": "700f7aed",
   "metadata": {},
   "source": [
    "### - 取得所有今日委託紀錄"
   ]
  },
  {
   "cell_type": "code",
   "execution_count": null,
   "id": "872cb215",
   "metadata": {
    "scrolled": true
   },
   "outputs": [],
   "source": [
    "var OrderResults = sdk.stock.getOrderResults(target_user);\n",
    "if (OrderResults.isSuccess) {\n",
    "    console.log(\"委託總數量: \" + OrderResults.data.length);\n",
    "}\n",
    "for (let i = 0; i < OrderResults.data.length; i++) {\n",
    "    let j = i + 1;\n",
    "    console.log(\"第 \" + j + \" 筆: \" + \"\\n\" );\n",
    "    console.log(OrderResults.data[i]);\n",
    "    console.log(\"\\n\");\n",
    "}"
   ]
  },
  {
   "cell_type": "markdown",
   "id": "ce12dc0c",
   "metadata": {},
   "source": [
    "### - 修改委託價格"
   ]
  },
  {
   "cell_type": "code",
   "execution_count": null,
   "id": "490373e4",
   "metadata": {},
   "outputs": [],
   "source": [
    "// 先找出可刪改的委託單\n",
    "var orderRes = sdk.stock.getOrderResults(target_user);\n",
    "for (let i = 0; i < orderRes.data.length; i++) {\n",
    "    if (orderRes.data[i].orderNo == \"l0002\") { //欲修改之委託單書號\n",
    "        var target_order = orderRes.data[i]\n",
    "        console.log(\"i: \" + i + \" - 委託單號: \" + orderRes.data[i].orderNo);\n",
    "    }\n",
    "}\n",
    "\n",
    "console.log(target_order)"
   ]
  },
  {
   "cell_type": "code",
   "execution_count": null,
   "id": "2cd350b9",
   "metadata": {},
   "outputs": [],
   "source": [
    "// 修改下面的 orderRes.data[i] -> 根據以上查詢結果，自行輸入 i 編號\n",
    "var tmpOrder = sdk.stock.makeModifyPriceObj(target_order, \"579\");\n",
    "sdk.stock.modifyPrice(target_user, tmpOrder);"
   ]
  },
  {
   "cell_type": "markdown",
   "id": "4a1fdd3f",
   "metadata": {},
   "source": [
    "### - 修改委託數量"
   ]
  },
  {
   "cell_type": "code",
   "execution_count": null,
   "id": "7b610002",
   "metadata": {},
   "outputs": [],
   "source": [
    "// 先找出可刪改的委託單\n",
    "var orderRes = sdk.stock.getOrderResults(target_user);\n",
    "for (let i = 0; i < orderRes.data.length; i++) {\n",
    "    if (orderRes.data[i].status == 10) //委託成功\n",
    "        console.log(\"i: \" + i + \" - 委託單號: \" + orderRes.data[i].orderNo);\n",
    "}"
   ]
  },
  {
   "cell_type": "code",
   "execution_count": null,
   "id": "443fe228",
   "metadata": {},
   "outputs": [],
   "source": [
    "var target_order = OrderResults.data[0]\n",
    "\n",
    "// 修改下面的 orderRes.data[i] -> 根據以上查詢結果，自行輸入 i 編號\n",
    "var tmpOrder = sdk.stock.makeModifyQuantityObj(target_order, 50);\n",
    "sdk.stock.modifyQuantity(target_user, tmpOrder);"
   ]
  },
  {
   "cell_type": "markdown",
   "id": "122e0b9c",
   "metadata": {},
   "source": [
    "### - 刪除委託單"
   ]
  },
  {
   "cell_type": "code",
   "execution_count": null,
   "id": "86bae3ff",
   "metadata": {},
   "outputs": [],
   "source": [
    "// 先找出可刪改的委託單\n",
    "var orderRes = sdk.stock.getOrderResults(target_user);\n",
    "for (let i = 0; i < orderRes.data.length; i++) {\n",
    "    if (orderRes.data[i].status == 10) //委託成功\n",
    "        console.log(\"i: \" + i + \" - 委託單號: \" + orderRes.data[i].orderNo);\n",
    "}"
   ]
  },
  {
   "cell_type": "code",
   "execution_count": null,
   "id": "61fa4741",
   "metadata": {},
   "outputs": [],
   "source": [
    "var target_order = OrderResults.data[0]\n",
    "\n",
    "// 修改下面的 orderRes.data[i] -> 根據前面查詢結果，自行輸入 i 編號\n",
    "sdk.stock.cancelOrder(target_user, target_order);"
   ]
  },
  {
   "cell_type": "markdown",
   "id": "dcf56e6e",
   "metadata": {},
   "source": [
    "### - 查詢歷史委託"
   ]
  },
  {
   "cell_type": "code",
   "execution_count": null,
   "id": "f93391f4",
   "metadata": {
    "scrolled": true
   },
   "outputs": [],
   "source": [
    "var orderHistory = sdk.stock.orderHistory(target_user, \"20240313\", \"20240313\"); // 起始日期與截止日期，目前可查近兩日資料\n",
    "if (orderHistory.isSuccess) {\n",
    "    console.log(\"委託總數量: \" + orderHistory.data.length);\n",
    "}\n",
    "for (let i = 0; i < orderHistory.data.length; i++) {\n",
    "    let j = i + 1;\n",
    "    console.log(\"第 \" + j + \" 筆: \" + \"\\n\" );\n",
    "    console.log(orderHistory.data[i]);\n",
    "    console.log(\"\\n\");\n",
    "}"
   ]
  },
  {
   "cell_type": "markdown",
   "id": "5a8b3df7",
   "metadata": {},
   "source": [
    "### - 查詢歷史成交資訊"
   ]
  },
  {
   "cell_type": "code",
   "execution_count": null,
   "id": "4dc44d4f",
   "metadata": {},
   "outputs": [],
   "source": [
    "var filledHistory = sdk.stock.filledHistory(target_user, \"20240313\", \"20240313\"); // 起始日期與截止日期，目前可查近兩日資料\n",
    "if (filledHistory.isSuccess) {\n",
    "    console.log(\"成交總數量: \" + filledHistory.data.length);\n",
    "}\n",
    "console.log(filledHistory);"
   ]
  },
  {
   "cell_type": "markdown",
   "id": "7d6f477f",
   "metadata": {},
   "source": [
    "### - 資券配額查詢"
   ]
  },
  {
   "cell_type": "code",
   "execution_count": null,
   "id": "229989b6",
   "metadata": {},
   "outputs": [],
   "source": [
    "sdk.stock.marginQuota(target_user, \"2330\");"
   ]
  },
  {
   "cell_type": "markdown",
   "id": "01f0f213",
   "metadata": {},
   "source": [
    "### - 現冲券配額查詢"
   ]
  },
  {
   "cell_type": "code",
   "execution_count": null,
   "id": "bc15e7b3",
   "metadata": {},
   "outputs": [],
   "source": [
    "sdk.stock.daytradeAndStockInfo(target_user, \"2330\");"
   ]
  },
  {
   "cell_type": "markdown",
   "id": "56cbcdf7-664c-44bf-9b03-4186096a95bd",
   "metadata": {},
   "source": [
    "### - 批次下單"
   ]
  },
  {
   "cell_type": "markdown",
   "id": "6e73755a-5ad1-465b-84b5-b0e024ee5866",
   "metadata": {},
   "source": [
    "#### -- 建立批次委託單"
   ]
  },
  {
   "cell_type": "code",
   "execution_count": null,
   "id": "09a99a4d-875e-4db4-abb9-9a20e29331d1",
   "metadata": {},
   "outputs": [],
   "source": [
    "var orders = [{\n",
    "    buySell: BSAction.Buy,\n",
    "    symbol: \"1101\",\n",
    "    price: \"36\",\n",
    "    quantity: 2000,\n",
    "    marketType: MarketType.Common,  // 盤別\n",
    "    priceType: PriceType.Limit,\n",
    "    timeInForce: TimeInForce.ROD,\n",
    "    orderType: OrderType.Stock  \n",
    "  },{\n",
    "    buySell: BSAction.Buy,\n",
    "    symbol: \"2330\",\n",
    "    price: \"579\",\n",
    "    quantity: 5000,\n",
    "    marketType: MarketType.Common,\n",
    "    priceType: PriceType.Limit,\n",
    "    timeInForce: TimeInForce.ROD,\n",
    "    orderType: OrderType.Stock\n",
    "  },\n",
    "];"
   ]
  },
  {
   "cell_type": "markdown",
   "id": "8efa3784-b6c0-463f-b3ae-6e358b5c31cc",
   "metadata": {},
   "source": [
    "#### -- 批次下單並查看回報"
   ]
  },
  {
   "cell_type": "code",
   "execution_count": null,
   "id": "2e305bc5-b3e5-4570-a9b2-776f435e74a3",
   "metadata": {
    "scrolled": true
   },
   "outputs": [],
   "source": [
    "// 批次下單\n",
    "var res = sdk.stock.batchPlaceOrder(target_user, orders);\n",
    "\n",
    "if (res.isSuccess) {\n",
    "    console.log(\"批次委託送單成功\");\n",
    "    console.log(JSON.stringify(res.data))\n",
    "} else {\n",
    "    console.log(\"批次委託送單失敗: \" + res.message);\n",
    "}"
   ]
  },
  {
   "cell_type": "markdown",
   "id": "7a076e97-1e74-4470-8e4a-a5b42f7c5025",
   "metadata": {},
   "source": [
    "#### -- 取得批次委託列表"
   ]
  },
  {
   "cell_type": "code",
   "execution_count": null,
   "id": "f7e2651f-0017-4068-8fbb-51d14503d003",
   "metadata": {
    "scrolled": true
   },
   "outputs": [],
   "source": [
    "// 查詢批次委託列表\n",
    "var batch_res = sdk.stock.batchOrderLists(target_user);\n",
    "if (batch_res.isSuccess) {\n",
    "    console.log(\"共有\" + batch_res.data.length + \"筆批次下單\");\n",
    "    for (let i = 0; i < batch_res.data.length; i++) {\n",
    "        console.log(i + \" - 批次委託序號: \" + batch_res.data[i].batchSeqNo);        \n",
    "    }\n",
    "} else {\n",
    "    console.log(\"查詢委託失敗: \" + res.message);\n",
    "}"
   ]
  },
  {
   "cell_type": "markdown",
   "id": "674ff7f8-0f58-4507-a9ec-1cd0eaa43b9d",
   "metadata": {},
   "source": [
    "#### -- 取得批次委託送單明細"
   ]
  },
  {
   "cell_type": "markdown",
   "id": "6547dc1f-109f-4f3d-9b5e-b824b6db90ae",
   "metadata": {},
   "source": [
    "***註：*** 此僅為送單紀錄，無交易狀態更新"
   ]
  },
  {
   "cell_type": "code",
   "execution_count": null,
   "id": "5048c407-b508-4653-99de-cf90cfa68ff1",
   "metadata": {},
   "outputs": [],
   "source": [
    "var target_batch_order = batch_res.data[0]"
   ]
  },
  {
   "cell_type": "code",
   "execution_count": null,
   "id": "a0b92cc0-95b4-474a-bb2c-662cee44928c",
   "metadata": {},
   "outputs": [],
   "source": [
    "// 由列表中的項目，來查詢批次委託的細項\n",
    "res = sdk.stock.batchOrderDetail(target_user, target_batch_order);\n",
    "\n",
    "if (res.isSuccess) {\n",
    "    for (let i = 0; i < res.data.length; i++) {\n",
    "        console.log(i);\n",
    "        console.log(\"股票代號: \" + res.data[i].stockNo);\n",
    "        console.log(\"委託數量: \" + res.data[i].quantity);\n",
    "        if (res.data[i].hasOwnProperty('price')) {\n",
    "            console.log(\"委託價格: \" + res.data[i].price);\n",
    "        } else {\n",
    "            console.log(\"委託價格: \" + res.data[i].priceType);\n",
    "        }\n",
    "        if (res.data[i].hasOwnProperty('orderNo')) {\n",
    "            console.log(\"委託單號: \" + res.data[i].orderNo);\n",
    "        } else {\n",
    "            console.log(\"委託失敗: \" + res.data[i].errorMessage);\n",
    "        }\n",
    "        \n",
    "    }\n",
    "} else {\n",
    "    console.log(\"查詢失敗: \" + res.message);\n",
    "}"
   ]
  },
  {
   "cell_type": "markdown",
   "id": "958fff3f-99e8-4b84-9afa-25d90c6e19c3",
   "metadata": {},
   "source": [
    "#### -- 批次改價"
   ]
  },
  {
   "cell_type": "code",
   "execution_count": null,
   "id": "21ca75aa-efd5-44a2-a2c2-44d06c7f05dd",
   "metadata": {},
   "outputs": [],
   "source": [
    "// 批次改價: 用上面批次委託明細來填入下面的批此修改價格\n",
    "var modify_pris = [ \n",
    "    sdk.stock.makeModifyPriceObj(res.data[0], \"37\"),\n",
    "    sdk.stock.makeModifyPriceObj(res.data[1], \"578\"),\n",
    "];\n",
    "\n",
    "sdk.stock.batchModifyPrice(target_user, modify_pris);"
   ]
  },
  {
   "cell_type": "markdown",
   "id": "a79c82e4-782d-4515-93e2-c8f5ddebd3a8",
   "metadata": {},
   "source": [
    "#### -- 批次改量"
   ]
  },
  {
   "cell_type": "code",
   "execution_count": null,
   "id": "09a49a52-49c7-4e2d-9a2a-07baa12a9d03",
   "metadata": {},
   "outputs": [],
   "source": [
    "// 批次改量: 用上面批次委託明細來填入下面的批此修改數量\n",
    "var modify_qtys = [ \n",
    "    sdk.stock.makeModifyQuantityObj(res.data[0], 1000),\n",
    "    sdk.stock.makeModifyQuantityObj(res.data[1], 1000),\n",
    "];\n",
    "\n",
    "sdk.stock.batchModifyQuantity(target_user, modify_qtys);"
   ]
  },
  {
   "cell_type": "markdown",
   "id": "26869ade-3e64-440a-97e4-48d872b05957",
   "metadata": {},
   "source": [
    "#### -- 批次刪除委託單"
   ]
  },
  {
   "cell_type": "code",
   "execution_count": null,
   "id": "d469d2cf-89dd-45f5-b86c-9178743b066d",
   "metadata": {},
   "outputs": [],
   "source": [
    "// 把所有委託成功且未成交的單子找出來\n",
    "function get_succ_order(target_user) {\n",
    "    var orderRes = sdk.stock.getOrderResults(target_user);\n",
    "    var olist = [];\n",
    "    for (let i = 0; i < orderRes.data.length; i++) {\n",
    "        if (orderRes.data[i].status == 10) //委託成功\n",
    "            olist.push(orderRes.data[i]);\n",
    "    }\n",
    "    return olist;\n",
    "}\n",
    "\n",
    "var olist = get_succ_order(target_user);\n",
    "// 批次刪單\n",
    "sdk.stock.batchCancelOrder(target_user, olist);"
   ]
  },
  {
   "cell_type": "markdown",
   "id": "b927aaa2",
   "metadata": {
    "jp-MarkdownHeadingCollapsed": true
   },
   "source": [
    "## 2. 帳務功能"
   ]
  },
  {
   "cell_type": "markdown",
   "id": "dcd94b7a-51fd-422d-8f16-478b8d1bf80b",
   "metadata": {},
   "source": [
    "### - 庫存查詢"
   ]
  },
  {
   "cell_type": "code",
   "execution_count": null,
   "id": "f1018326",
   "metadata": {
    "scrolled": true
   },
   "outputs": [],
   "source": [
    "var res = sdk.accounting.inventories(target_user);\n",
    "if (res.isSuccess) {\n",
    "    console.log(\"庫存總數量: \" + res.data.length);\n",
    "}\n",
    "for (let i = 0; i < res.data.length; i++) {\n",
    "    let j = i + 1;\n",
    "    console.log(\"第 \" + j + \" 筆: \" + \"\\n\" );\n",
    "    console.log(res.data[i]);\n",
    "    console.log(\"\\n\");\n",
    "}"
   ]
  },
  {
   "cell_type": "markdown",
   "id": "d066dc79",
   "metadata": {},
   "source": [
    "### - 未實現損益查詢"
   ]
  },
  {
   "cell_type": "code",
   "execution_count": null,
   "id": "52e9a228",
   "metadata": {},
   "outputs": [],
   "source": [
    "sdk.accounting.unrealizedGainsAndLoses(target_user);"
   ]
  },
  {
   "cell_type": "markdown",
   "id": "7b98fe89",
   "metadata": {},
   "source": [
    "### - 已實現損益彙總"
   ]
  },
  {
   "cell_type": "code",
   "execution_count": null,
   "id": "140b2370",
   "metadata": {},
   "outputs": [],
   "source": [
    "sdk.accounting.realizedGainsAndLosesSummary(target_user);"
   ]
  },
  {
   "cell_type": "markdown",
   "id": "09a903e6",
   "metadata": {},
   "source": [
    "### - 已實現損益明細"
   ]
  },
  {
   "cell_type": "code",
   "execution_count": null,
   "id": "a0d2abf2",
   "metadata": {},
   "outputs": [],
   "source": [
    "sdk.accounting.realizedGainsAndLoses(target_user);"
   ]
  },
  {
   "cell_type": "markdown",
   "id": "3077d24f",
   "metadata": {},
   "source": [
    "### - 維持率查詢"
   ]
  },
  {
   "cell_type": "code",
   "execution_count": null,
   "id": "783376e0",
   "metadata": {},
   "outputs": [],
   "source": [
    "sdk.accounting.maintenance(target_user);"
   ]
  },
  {
   "cell_type": "markdown",
   "id": "c7ff27cd",
   "metadata": {},
   "source": [
    "### - 交割款查詢"
   ]
  },
  {
   "cell_type": "code",
   "execution_count": null,
   "id": "fc1f95c6",
   "metadata": {},
   "outputs": [],
   "source": [
    "sdk.accounting.querySettlement(target_user,\"3d\");  // 3d or 0d"
   ]
  },
  {
   "cell_type": "markdown",
   "id": "b5ba5c63",
   "metadata": {},
   "source": [
    "### - 銀行餘額查詢"
   ]
  },
  {
   "cell_type": "code",
   "execution_count": null,
   "id": "8ec35d2a",
   "metadata": {},
   "outputs": [],
   "source": [
    "sdk.accounting.bankRemain(target_user);"
   ]
  },
  {
   "cell_type": "markdown",
   "id": "7a4a8052",
   "metadata": {
    "jp-MarkdownHeadingCollapsed": true
   },
   "source": [
    "## 3. 行情功能"
   ]
  },
  {
   "cell_type": "markdown",
   "id": "1b0941fc-42f9-4605-8c32-4ae72183fa7c",
   "metadata": {},
   "source": [
    "### 建立行情連線"
   ]
  },
  {
   "cell_type": "code",
   "execution_count": null,
   "id": "cbfe1e7a",
   "metadata": {},
   "outputs": [],
   "source": [
    "sdk.initRealtime();"
   ]
  },
  {
   "cell_type": "code",
   "execution_count": null,
   "id": "10a6fc89-bb63-43e1-ab84-72e628a7535e",
   "metadata": {},
   "outputs": [],
   "source": [
    "var client = sdk.marketdata.restClient;"
   ]
  },
  {
   "cell_type": "markdown",
   "id": "60472446",
   "metadata": {},
   "source": [
    "### Web API 日內行情\n",
    "\n",
    "### - Intraday Tickers 股票、指數列表"
   ]
  },
  {
   "cell_type": "code",
   "execution_count": null,
   "id": "722437d7-b6a3-4f0d-8c04-895a3aa6f4b3",
   "metadata": {},
   "outputs": [],
   "source": [
    "client.stock.intraday\n",
    "  .tickers({ type: \"EQUITY\", exchange: \"TWSE\", isNormal: true })\n",
    "  .then((data) => console.log(data));"
   ]
  },
  {
   "cell_type": "markdown",
   "id": "92413df2",
   "metadata": {},
   "source": [
    "### - Intraday Ticker 股票資訊"
   ]
  },
  {
   "cell_type": "code",
   "execution_count": null,
   "id": "e939d6a3",
   "metadata": {},
   "outputs": [],
   "source": [
    "// 可根據以上查到的股票代號填入\n",
    "client.stock.intraday.ticker({ symbol: '2330' })\n",
    "  .then(data => console.log(data));"
   ]
  },
  {
   "cell_type": "markdown",
   "id": "82157816",
   "metadata": {},
   "source": [
    "### - Intraday Quote 即時報價"
   ]
  },
  {
   "cell_type": "code",
   "execution_count": null,
   "id": "6ee95eec",
   "metadata": {
    "scrolled": true
   },
   "outputs": [],
   "source": [
    "client.stock.intraday.quote({ symbol: '2330' })\n",
    "  .then(data => console.log(data));"
   ]
  },
  {
   "cell_type": "markdown",
   "id": "627eb5bd",
   "metadata": {},
   "source": [
    "### - Intraday Candles 分K資料"
   ]
  },
  {
   "cell_type": "code",
   "execution_count": null,
   "id": "4c403c32",
   "metadata": {
    "scrolled": true
   },
   "outputs": [],
   "source": [
    "client.stock.intraday.candles({ symbol: '2330', timeframe: \"5\" })  // time frame 可選 1 5 10 15 30 60\n",
    "  .then(data => console.log(data));"
   ]
  },
  {
   "cell_type": "markdown",
   "id": "a897b970",
   "metadata": {},
   "source": [
    "### - Intraday Trades 交易明細"
   ]
  },
  {
   "cell_type": "code",
   "execution_count": null,
   "id": "796d2654",
   "metadata": {},
   "outputs": [],
   "source": [
    "client.stock.intraday.trades({ symbol: '2330', limit: 10 })  // limit: 取得最新的n筆資料，預設為50\n",
    "  .then(data => console.log(data));"
   ]
  },
  {
   "cell_type": "markdown",
   "id": "db7438da",
   "metadata": {},
   "source": [
    "### - Intraday Volumes 分價量表"
   ]
  },
  {
   "cell_type": "code",
   "execution_count": null,
   "id": "73378cba",
   "metadata": {},
   "outputs": [],
   "source": [
    "client.stock.intraday.volumes({ symbol: '2330' })\n",
    "  .then(data => console.log(data));"
   ]
  },
  {
   "cell_type": "markdown",
   "id": "f0f2aceb",
   "metadata": {},
   "source": [
    "### Web API 行情況照\n",
    "\n",
    "### - Snapshot Quotes 市場行情快照"
   ]
  },
  {
   "cell_type": "code",
   "execution_count": null,
   "id": "3e10a187-0f4d-49a1-afb7-332dd105ce29",
   "metadata": {},
   "outputs": [],
   "source": [
    "client.stock.snapshot.quotes({ market: 'TSE' })\n",
    "  .then(data => console.log(data));"
   ]
  },
  {
   "cell_type": "markdown",
   "id": "3217aced",
   "metadata": {},
   "source": [
    "### - Snapshot Movers 漲跌幅排行"
   ]
  },
  {
   "cell_type": "code",
   "execution_count": null,
   "id": "46f149d1",
   "metadata": {
    "scrolled": true
   },
   "outputs": [],
   "source": [
    "client.stock.snapshot.movers({ market: 'OTC', direction: 'up', change: 'percent' })\n",
    "  .then(data => console.log(data));"
   ]
  },
  {
   "cell_type": "markdown",
   "id": "22ca7696",
   "metadata": {},
   "source": [
    "### - Snapshot Actives 成交量值排行"
   ]
  },
  {
   "cell_type": "code",
   "execution_count": null,
   "id": "301e1103",
   "metadata": {
    "scrolled": true
   },
   "outputs": [],
   "source": [
    "client.stock.snapshot.actives({ market: 'OTC', trade: 'volume' })\n",
    "  .then(data => console.log(data));"
   ]
  },
  {
   "cell_type": "markdown",
   "id": "02fcd171",
   "metadata": {},
   "source": [
    "### Web API 歷史行情\n",
    "\n",
    "### - Historical Candles 歷史K線資料"
   ]
  },
  {
   "cell_type": "code",
   "execution_count": null,
   "id": "f57b2af6",
   "metadata": {},
   "outputs": [],
   "source": [
    "client.stock.historical.candles(\n",
    "    { symbol: '2330', from: '2023-07-26', to: '2024-01-30', fields: 'open,close,volume', timeframe: \"D\" })\n",
    "    .then(data => console.log(data));"
   ]
  },
  {
   "cell_type": "markdown",
   "id": "fc00a1bb",
   "metadata": {},
   "source": [
    "### - Historical Stats 近 52 週股價數據"
   ]
  },
  {
   "cell_type": "code",
   "execution_count": null,
   "id": "de31fa1e",
   "metadata": {},
   "outputs": [],
   "source": [
    "client.stock.historical.stats({ symbol: '2330' })\n",
    "  .then(data => console.log(data));"
   ]
  },
  {
   "cell_type": "markdown",
   "id": "a280b3f5",
   "metadata": {},
   "source": [
    "### Web Socket \n",
    "\n",
    "### 訂閱接收最新資訊"
   ]
  },
  {
   "cell_type": "code",
   "execution_count": null,
   "id": "7ca2bbb4",
   "metadata": {},
   "outputs": [],
   "source": [
    "// 處理各種連接狀況\n",
    "function handle_connect() {\n",
    "    console.log(\"Web Socket 連接成功\");\n",
    "}\n",
    "function handle_disconnect(){\n",
    "    console.log(\"Web Socket 連接斷線\");\n",
    "}\n",
    "function handle_error(error) {\n",
    "    console.log(\"Web Socket 錯誤: \" + error);\n",
    "}\n",
    "var subscribe_ids = [];\n",
    "function handle_message(text){\n",
    "    try {\n",
    "        let msg = JSON.parse(text);\n",
    "        let event = msg.event;\n",
    "        let data = msg.data;\n",
    "        \n",
    "        if (event == \"data\") {\n",
    "            console.log(\"[\" + msg.channel + \"] \" + JSON.stringify(data));\n",
    "        } else {\n",
    "            if (event == \"subscribed\") {\n",
    "                let id = data.id;\n",
    "                if (subscribe_ids.includes(id))\n",
    "                    console.log(\"[Error] 訂閱 ID \" + id + \" 重複訂閱\");\n",
    "                else {\n",
    "                    subscribe_ids.push(id);\n",
    "                }\n",
    "            } else if (event == \"unsubscribed\") {\n",
    "                let id = data.id;\n",
    "                const loc = subscribe_ids.indexOf(id);\n",
    "                if (loc >= 0) {\n",
    "                    subscribe_ids.splice(loc, 1);\n",
    "                } else {\n",
    "                    console.log(\"[Error] 查無此筆訂閱 ID: \" + id);\n",
    "                }\n",
    "            }\n",
    "            console.log(text);\n",
    "        }\n",
    "    }\n",
    "    catch (err) {\n",
    "        console.log(\"[-] \" + text);\n",
    "        handle_error(\"parsing JSON: \" + err);\n",
    "    }\n",
    "}"
   ]
  },
  {
   "cell_type": "markdown",
   "id": "d99c3a81",
   "metadata": {},
   "source": [
    "### 開始訂閱"
   ]
  },
  {
   "cell_type": "code",
   "execution_count": null,
   "id": "a8da41ee",
   "metadata": {},
   "outputs": [],
   "source": [
    "const stock = sdk.marketdata.webSocketClient.stock;\n",
    "stock.on(\"connect\", handle_connect);\n",
    "stock.on(\"message\", handle_message);\n",
    "stock.on(\"disconnect\", handle_disconnect);\n",
    "stock.on(\"error\", handle_error);\n",
    "\n",
    "stock.connect();  // WebSocket 連線開始"
   ]
  },
  {
   "cell_type": "code",
   "execution_count": null,
   "id": "b2877de6",
   "metadata": {
    "scrolled": true
   },
   "outputs": [],
   "source": [
    "// 訂閱交易明細\n",
    "stock.subscribe({\n",
    "    'channel': 'trades',\n",
    "    'symbol': '5439'\n",
    "});"
   ]
  },
  {
   "cell_type": "code",
   "execution_count": null,
   "id": "5cd9c87a",
   "metadata": {
    "scrolled": true
   },
   "outputs": [],
   "source": [
    "// 訂閱最佳五檔報價\n",
    "stock.subscribe({ \n",
    "    'channel': 'books', \n",
    "    'symbol': '5439'\n",
    "});"
   ]
  },
  {
   "cell_type": "code",
   "execution_count": null,
   "id": "8891dd06-e0c5-4ec3-b40d-5b2cf1bc3c5f",
   "metadata": {},
   "outputs": [],
   "source": [
    "// 訂閱股票聚合數據\n",
    "stock.subscribe({ \n",
    "    'channel': 'indices', \n",
    "    'symbol': 'IR0001'\n",
    "});"
   ]
  },
  {
   "cell_type": "markdown",
   "id": "0cfacadc",
   "metadata": {},
   "source": [
    "### 取消訂閱"
   ]
  },
  {
   "cell_type": "code",
   "execution_count": null,
   "id": "620fd369",
   "metadata": {
    "scrolled": true
   },
   "outputs": [],
   "source": [
    "// 可由此看到目前已經訂閱的 channel ID\n",
    "console.log(subscribe_ids);"
   ]
  },
  {
   "cell_type": "code",
   "execution_count": null,
   "id": "5759b157",
   "metadata": {},
   "outputs": [],
   "source": [
    "// 上面拿到的 ID 填進來即可取消訂閱\n",
    "stock.unsubscribe({\"id\": \"JwqPM29V2VUZKWN8KWJvc2PGm3qYzEFj9B6ygMNwH5k\"});"
   ]
  },
  {
   "cell_type": "code",
   "execution_count": null,
   "id": "693a9de8",
   "metadata": {},
   "outputs": [],
   "source": [
    "// 取消掉所有的訂閱\n",
    "var tmp = Array.from(subscribe_ids);\n",
    "for (let i = 0; i < tmp.length; i++) {\n",
    "    stock.unsubscribe({\"id\": tmp[i]});\n",
    "}"
   ]
  },
  {
   "cell_type": "code",
   "execution_count": null,
   "id": "d3c5efe1",
   "metadata": {},
   "outputs": [],
   "source": [
    "// 斷線\n",
    "stock.disconnect();"
   ]
  },
  {
   "cell_type": "raw",
   "id": "a530f860",
   "metadata": {},
   "source": []
  }
 ],
 "metadata": {
  "kernelspec": {
   "display_name": "JavaScript (Node.js)",
   "language": "javascript",
   "name": "javascript"
  },
  "language_info": {
   "file_extension": ".js",
   "mimetype": "application/javascript",
   "name": "javascript",
   "version": "18.18.2"
  }
 },
 "nbformat": 4,
 "nbformat_minor": 5
}
